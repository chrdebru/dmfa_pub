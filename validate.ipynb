{
 "cells": [
  {
   "cell_type": "markdown",
   "metadata": {},
   "source": [
    "# Social Security file Validator"
   ]
  },
  {
   "cell_type": "markdown",
   "metadata": {},
   "source": [
    "## Input document type and quarter\n",
    "\n",
    "Valid document type: \"core\", \"dmfa\", \"dmfareq\"<br>Valid quarter: 20223, 20222, 20221"
   ]
  },
  {
   "cell_type": "code",
   "execution_count": null,
   "metadata": {},
   "outputs": [],
   "source": [
    "docType = input()\n",
    "quarter = input()"
   ]
  },
  {
   "cell_type": "markdown",
   "metadata": {},
   "source": [
    "## Input file to validate"
   ]
  },
  {
   "cell_type": "code",
   "execution_count": null,
   "metadata": {},
   "outputs": [],
   "source": [
    "filename = input() # ex: valid_dmfa.ttl, invalid_dmfa.ttl\n",
    "\n",
    "#Check that file exist, crash if does not exist\n",
    "file = open(filename)\n",
    "file.close()"
   ]
  },
  {
   "cell_type": "markdown",
   "metadata": {},
   "source": [
    "## Input triple store endpoint"
   ]
  },
  {
   "cell_type": "code",
   "execution_count": null,
   "metadata": {},
   "outputs": [],
   "source": [
    "endpoint = input() #ex: http://localhost:3030/socialsecurity"
   ]
  },
  {
   "cell_type": "markdown",
   "metadata": {},
   "source": [
    "## Validation"
   ]
  },
  {
   "cell_type": "code",
   "execution_count": null,
   "metadata": {},
   "outputs": [],
   "source": [
    "# SPARQL endpoint setup\n",
    "from SPARQLWrapper import SPARQLWrapper, TURTLE\n",
    "sparql = SPARQLWrapper(endpoint)\n",
    "sparql.setReturnFormat(TURTLE)"
   ]
  },
  {
   "cell_type": "markdown",
   "metadata": {},
   "source": [
    "Creating data graph\n"
   ]
  },
  {
   "cell_type": "code",
   "execution_count": null,
   "metadata": {},
   "outputs": [],
   "source": [
    "# Copy input file\n",
    "import shutil\n",
    "datagraphFilename = filename.split(\".\")[0] + \"_datagraph_tmp.ttl\"\n",
    "shutil.copy(filename, datagraphFilename)\n",
    "\n",
    "# Fetch and append annexes\n",
    "FETCH_ANNEXES_QUERY = \"\"\"\n",
    "CONSTRUCT{\n",
    "\t?s ?p ?o.\n",
    "}\n",
    "FROM <http://kg.socialsecurity.be/resource/annexes/2/>\n",
    "FROM <http://kg.socialsecurity.be/resource/annexes/4/>\n",
    "FROM <http://kg.socialsecurity.be/resource/annexes/6/>\n",
    "FROM <http://kg.socialsecurity.be/resource/annexes/7/>\n",
    "FROM <http://kg.socialsecurity.be/resource/annexes/8/>\n",
    "FROM <http://kg.socialsecurity.be/resource/annexes/9/>\n",
    "FROM <http://kg.socialsecurity.be/resource/annexes/10/>\n",
    "FROM <http://kg.socialsecurity.be/resource/annexes/11/>\n",
    "FROM <http://kg.socialsecurity.be/resource/annexes/21/>\n",
    "FROM <http://kg.socialsecurity.be/resource/annexes/27/>\n",
    "FROM <http://kg.socialsecurity.be/resource/annexes/28/>\n",
    "FROM <http://kg.socialsecurity.be/resource/annexes/31/>\n",
    "FROM <http://kg.socialsecurity.be/resource/annexes/35/>\n",
    "FROM <http://kg.socialsecurity.be/resource/annexes/42/>\n",
    "FROM <http://kg.socialsecurity.be/resource/annexes/43/>\n",
    "FROM <http://kg.socialsecurity.be/resource/annexes/44/>\n",
    "FROM <http://kg.socialsecurity.be/resource/annexes/45/>\n",
    "FROM <http://kg.socialsecurity.be/resource/annexes/46/>\n",
    "FROM <http://kg.socialsecurity.be/resource/annexes/dmfas02/>\n",
    "WHERE{\n",
    "\t?s ?p ?o.\n",
    "}\n",
    "\"\"\"\n",
    "\n",
    "sparql.setQuery(FETCH_ANNEXES_QUERY)\n",
    "response = sparql.queryAndConvert().decode(\"utf-8\")\n",
    "\n",
    "datagraph = open(datagraphFilename, mode=\"a\", encoding=\"utf-8\")\n",
    "datagraph.write(\"\\n\" + response)\n",
    "datagraph.close()"
   ]
  },
  {
   "cell_type": "markdown",
   "metadata": {},
   "source": [
    "Creating shape graph\n"
   ]
  },
  {
   "cell_type": "code",
   "execution_count": null,
   "metadata": {},
   "outputs": [],
   "source": [
    "FETCH_SHAPES_QUERY = \"\"\"\n",
    "CONSTRUCT{{\n",
    "\t?s ?p ?o.\n",
    "}}\n",
    "FROM <http://kg.socialsecurity.be/resource/shapes/core/{0}/>\n",
    "{1}\n",
    "WHERE{{\n",
    "\t?s ?p ?o.\n",
    "}}\n",
    "\"\"\"\n",
    "\n",
    "specificGraph = \"FROM <http://kg.socialsecurity.be/resource/shapes/\" + docType.lower() + \"/\" + quarter + \"/>\" if docType.lower() != \"core\" else \"\"\n",
    "sparql.setQuery(FETCH_SHAPES_QUERY.format(quarter, specificGraph))\n",
    "response = sparql.queryAndConvert().decode(\"utf-8\")\n",
    "\n",
    "shapegraphFilename = \"shapes_tmp.ttl\"\n",
    "shapegraph = open(shapegraphFilename, mode=\"w\", encoding=\"utf-8\")\n",
    "shapegraph.write(response)\n",
    "shapegraph.close()"
   ]
  },
  {
   "cell_type": "markdown",
   "metadata": {},
   "source": [
    "Validate data graph against shape graph with TopBraid\n"
   ]
  },
  {
   "cell_type": "code",
   "execution_count": null,
   "metadata": {},
   "outputs": [],
   "source": [
    "import os\n",
    "\n",
    "validationReportFilename = filename.split(\".\")[0] + \"_\" + docType.lower() + \"_\" + quarter + \"validation_report.ttl\"\n",
    "\n",
    "os.system('cmd /c \"shaclvalidate.bat -datafile {} -shapesfile {} > {}\"'.format(datagraphFilename, shapegraphFilename, validationReportFilename))"
   ]
  },
  {
   "cell_type": "markdown",
   "metadata": {},
   "source": [
    "## Clean up"
   ]
  },
  {
   "cell_type": "code",
   "execution_count": null,
   "metadata": {},
   "outputs": [],
   "source": [
    "os.remove(datagraphFilename)\n",
    "os.remove(shapegraphFilename)"
   ]
  }
 ],
 "metadata": {
  "kernelspec": {
   "display_name": "Python 3.9.7 ('base')",
   "language": "python",
   "name": "python3"
  },
  "language_info": {
   "codemirror_mode": {
    "name": "ipython",
    "version": 3
   },
   "file_extension": ".py",
   "mimetype": "text/x-python",
   "name": "python",
   "nbconvert_exporter": "python",
   "pygments_lexer": "ipython3",
   "version": "3.9.7"
  },
  "orig_nbformat": 4,
  "vscode": {
   "interpreter": {
    "hash": "7a92bdcd15ac16c82c3846eaa14bb6c0e2c1583cbb3b011da5cf30fead1f2921"
   }
  }
 },
 "nbformat": 4,
 "nbformat_minor": 2
}
